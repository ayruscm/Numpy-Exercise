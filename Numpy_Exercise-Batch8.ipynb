{
 "cells": [
  {
   "cell_type": "markdown",
   "metadata": {},
   "source": [
    "# Numpy Exercise  <img src = \"numpy1.png\">\n",
    "###### Authored by T.K.Senthil Kumar"
   ]
  },
  {
   "cell_type": "markdown",
   "metadata": {},
   "source": [
    "#### 1. Create a numpy array with the number of elements equals your age. The value of array elements is a random number between 10 to your age "
   ]
  },
  {
   "cell_type": "code",
   "execution_count": 1,
   "metadata": {},
   "outputs": [
    {
     "data": {
      "text/plain": [
       "array([10, 11, 12, 13, 14, 15, 16, 17, 18, 19, 20, 21, 22, 23, 24])"
      ]
     },
     "execution_count": 1,
     "metadata": {},
     "output_type": "execute_result"
    }
   ],
   "source": [
    "#Solution\n",
    "import numpy as np\n",
    "n=np.arange(10,25)\n",
    "n"
   ]
  },
  {
   "cell_type": "markdown",
   "metadata": {},
   "source": [
    "#### 2. Create a numpy array between 1 to 50 with the span(space) of 2 and print the length of the array"
   ]
  },
  {
   "cell_type": "code",
   "execution_count": 5,
   "metadata": {},
   "outputs": [
    {
     "name": "stdout",
     "output_type": "stream",
     "text": [
      "[ 1  3  5  7  9 11 13 15 17 19 21 23 25 27 29 31 33 35 37 39 41 43 45 47\n",
      " 49]\n",
      "\n",
      "Length of array is:  25\n"
     ]
    }
   ],
   "source": [
    "# Solution\n",
    "span=np.arange(1,50,2)\n",
    "print(span)\n",
    "print('\\nLength of array is: ',len(span))\n",
    "\n"
   ]
  },
  {
   "cell_type": "markdown",
   "metadata": {},
   "source": [
    "#### 3. Create an equally spaced numpy array with 27 elements between 4 and 7 "
   ]
  },
  {
   "cell_type": "code",
   "execution_count": 9,
   "metadata": {},
   "outputs": [
    {
     "data": {
      "text/plain": [
       "array([4.        , 4.11538462, 4.23076923, 4.34615385, 4.46153846,\n",
       "       4.57692308, 4.69230769, 4.80769231, 4.92307692, 5.03846154,\n",
       "       5.15384615, 5.26923077, 5.38461538, 5.5       , 5.61538462,\n",
       "       5.73076923, 5.84615385, 5.96153846, 6.07692308, 6.19230769,\n",
       "       6.30769231, 6.42307692, 6.53846154, 6.65384615, 6.76923077,\n",
       "       6.88461538, 7.        ])"
      ]
     },
     "execution_count": 9,
     "metadata": {},
     "output_type": "execute_result"
    }
   ],
   "source": [
    "# Solution\n",
    "c=np.linspace(4,7,27)\n",
    "c\n",
    "\n"
   ]
  },
  {
   "cell_type": "markdown",
   "metadata": {},
   "source": [
    "#### 4. Create a matrix of size (5 x 4) with random numbers and round off the each elements by only 2 fractional points."
   ]
  },
  {
   "cell_type": "code",
   "execution_count": 12,
   "metadata": {},
   "outputs": [
    {
     "data": {
      "text/plain": [
       "array([[2.61, 1.35, 3.04, 3.45],\n",
       "       [1.09, 2.03, 1.  , 2.98],\n",
       "       [2.68, 2.38, 3.55, 1.93],\n",
       "       [3.69, 2.31, 3.5 , 3.68],\n",
       "       [1.73, 3.67, 2.84, 1.48]])"
      ]
     },
     "execution_count": 12,
     "metadata": {},
     "output_type": "execute_result"
    }
   ],
   "source": [
    "# Solution\n",
    "matrix=np.round((np.random.uniform(4,size=(5,4))),2)\n",
    "matrix\n",
    "\n"
   ]
  },
  {
   "cell_type": "markdown",
   "metadata": {},
   "source": [
    "#### 5. Create a matrix of size (5x5) with random integers between 5 to 15"
   ]
  },
  {
   "cell_type": "code",
   "execution_count": 15,
   "metadata": {},
   "outputs": [
    {
     "data": {
      "text/plain": [
       "array([[11.,  6.,  5.,  6., 12.],\n",
       "       [12.,  5.,  8., 13., 15.],\n",
       "       [ 7.,  6.,  9., 13., 11.],\n",
       "       [ 5.,  5.,  7., 13.,  6.],\n",
       "       [14.,  6., 13.,  7.,  9.]])"
      ]
     },
     "execution_count": 15,
     "metadata": {},
     "output_type": "execute_result"
    }
   ],
   "source": [
    "# Solution\n",
    "matrix=np.round((np.random.uniform(5,15,size=(5,5))))\n",
    "matrix"
   ]
  },
  {
   "cell_type": "markdown",
   "metadata": {},
   "source": [
    "#### 6. Create the one dimensional array of zeros of random length below 20 with the data type int32"
   ]
  },
  {
   "cell_type": "code",
   "execution_count": 31,
   "metadata": {},
   "outputs": [
    {
     "name": "stdout",
     "output_type": "stream",
     "text": [
      "Array of zeroes:  [0 0 0 0 0 0 0 0 0 0 0 0 0 0 0 0 0 0 0 0]\n"
     ]
    },
    {
     "data": {
      "text/plain": [
       "dtype('int32')"
      ]
     },
     "execution_count": 31,
     "metadata": {},
     "output_type": "execute_result"
    }
   ],
   "source": [
    "# Solution\n",
    "oned=np.zeros(20,int)\n",
    "print('Array of zeroes: ',oned)\n",
    "oned.dtype\n"
   ]
  },
  {
   "cell_type": "markdown",
   "metadata": {},
   "source": [
    "#### 7. Create a two dimensional array of ones of random row and column lengths with the data type of float32 "
   ]
  },
  {
   "cell_type": "code",
   "execution_count": 34,
   "metadata": {},
   "outputs": [
    {
     "data": {
      "text/plain": [
       "array([[1., 1., 1., 1., 1.],\n",
       "       [1., 1., 1., 1., 1.],\n",
       "       [1., 1., 1., 1., 1.],\n",
       "       [1., 1., 1., 1., 1.],\n",
       "       [1., 1., 1., 1., 1.]], dtype=float32)"
      ]
     },
     "execution_count": 34,
     "metadata": {},
     "output_type": "execute_result"
    }
   ],
   "source": [
    "# Solution\n",
    "twod=np.ones([5,5],dtype='float32')\n",
    "twod"
   ]
  },
  {
   "cell_type": "markdown",
   "metadata": {},
   "source": [
    "#### 8. Create a matrix exactly as same as shown below and print its shape, type and dtype\n",
    "<img src = \"np_mat1.png\">"
   ]
  },
  {
   "cell_type": "code",
   "execution_count": 41,
   "metadata": {},
   "outputs": [
    {
     "name": "stdout",
     "output_type": "stream",
     "text": [
      "The matrix : \n",
      " [[ 9 25 50 34 45]\n",
      " [ 3 34 34 65  2]\n",
      " [ 5  7  3 76  3]\n",
      " [ 7  8  6 54  6]\n",
      " [23 12  8  5  8]]\n",
      "\n",
      "Type :\n",
      " <class 'numpy.ndarray'>\n",
      "\n",
      "The shape is :  (5, 5)\n",
      "\n",
      " DATATYPE : int32\n"
     ]
    }
   ],
   "source": [
    "# Solution\n",
    "mat=np.array([[9,25,50,34,45],[3,34,34,65,2],[5,7,3,76,3],[7,8,6,54,6],[23,12,8,5,8]])\n",
    "print('The matrix : \\n',mat)\n",
    "print('\\nType :\\n',type(mat))\n",
    "print('\\nThe shape is : ',mat.shape)\n",
    "print('\\n DATATYPE :',mat.dtype)"
   ]
  },
  {
   "cell_type": "markdown",
   "metadata": {},
   "source": [
    "#### 9. Access the center pixel of the matrix defined in the question no 8 ( Don't enter the row and column index explicitely)"
   ]
  },
  {
   "cell_type": "code",
   "execution_count": 45,
   "metadata": {},
   "outputs": [
    {
     "data": {
      "text/plain": [
       "3"
      ]
     },
     "execution_count": 45,
     "metadata": {},
     "output_type": "execute_result"
    }
   ],
   "source": [
    "# Solution\n",
    "col=row=int(len(mat)/2)\n",
    "ar[row,col]"
   ]
  },
  {
   "cell_type": "markdown",
   "metadata": {},
   "source": [
    "#### 10. Print the all the elements of 3rd row of the matrix"
   ]
  },
  {
   "cell_type": "code",
   "execution_count": 48,
   "metadata": {},
   "outputs": [
    {
     "data": {
      "text/plain": [
       "array([[ 5,  7,  3, 76,  3]])"
      ]
     },
     "execution_count": 48,
     "metadata": {},
     "output_type": "execute_result"
    }
   ],
   "source": [
    "# Solution\n",
    "mat[2:3]"
   ]
  },
  {
   "cell_type": "markdown",
   "metadata": {},
   "source": [
    "#### 11. Print the all the elements of 4th columns of the matrix"
   ]
  },
  {
   "cell_type": "code",
   "execution_count": 52,
   "metadata": {},
   "outputs": [
    {
     "data": {
      "text/plain": [
       "array([45,  2,  3,  6,  8])"
      ]
     },
     "execution_count": 52,
     "metadata": {},
     "output_type": "execute_result"
    }
   ],
   "source": [
    "# Solution\n",
    "mat[:,4]\n",
    "\n"
   ]
  },
  {
   "cell_type": "markdown",
   "metadata": {},
   "source": [
    "#### 12. Print the 4 corner pixels of the matrix"
   ]
  },
  {
   "cell_type": "code",
   "execution_count": 54,
   "metadata": {},
   "outputs": [
    {
     "data": {
      "text/plain": [
       "array([[ 9, 45],\n",
       "       [23,  8]])"
      ]
     },
     "execution_count": 54,
     "metadata": {},
     "output_type": "execute_result"
    }
   ],
   "source": [
    "# Solution\n",
    "mat[[0,4],:][:,[0,4]]\n"
   ]
  },
  {
   "cell_type": "markdown",
   "metadata": {},
   "source": [
    "#### 13. Create three matrix m1,m2,m3 with the elements grouped in the figure below\n",
    "<img src = \"np_mat2.png\">"
   ]
  },
  {
   "cell_type": "code",
   "execution_count": 56,
   "metadata": {},
   "outputs": [
    {
     "name": "stdout",
     "output_type": "stream",
     "text": [
      "m1 matrix:  [[50 34]\n",
      " [34 65]]\n",
      "m2 matrix: [[ 7  8]\n",
      " [23 12]]\n",
      "m3 matrix: [[ 3 76  3]\n",
      " [ 6 54  6]\n",
      " [ 8  5  8]]\n"
     ]
    }
   ],
   "source": [
    "# Solution \n",
    "m1=mat[[0,1],:][:,[2,3]]\n",
    "print('m1 matrix: ',m1)\n",
    "m2=mat[[3,4],:][:,[0,1]]\n",
    "print('m2 matrix:',m2)\n",
    "m3=mat[[2,3,4],:][:,[2,3,4]]\n",
    "print('m3 matrix:',m3)"
   ]
  },
  {
   "cell_type": "markdown",
   "metadata": {},
   "source": [
    "#### 14. Reshape all the three matrix segmented in the above task in to three  1-dimensional vector."
   ]
  },
  {
   "cell_type": "code",
   "execution_count": 60,
   "metadata": {},
   "outputs": [
    {
     "name": "stdout",
     "output_type": "stream",
     "text": [
      "new m1:\n",
      " [[50]\n",
      " [34]\n",
      " [34]\n",
      " [65]]\n",
      "new m2 is \n",
      " [[ 7]\n",
      " [ 8]\n",
      " [23]\n",
      " [12]]\n",
      "new m3:\n",
      " [[ 3]\n",
      " [76]\n",
      " [ 3]\n",
      " [ 6]\n",
      " [54]\n",
      " [ 6]\n",
      " [ 8]\n",
      " [ 5]\n",
      " [ 8]]\n"
     ]
    }
   ],
   "source": [
    "# Solution\n",
    "re_m1=m1.reshape(-1,1)\n",
    "print('new m1:\\n',re_m1)\n",
    "re_m2=m2.reshape(-1,1)\n",
    "print('new m2 is \\n',re_m2)\n",
    "re_m3=m3.reshape(-1,1)\n",
    "print('new m3:\\n',re_m3)\n"
   ]
  },
  {
   "cell_type": "markdown",
   "metadata": {},
   "source": [
    "#### 15. Concatenate the matrix m1 and m2 in both vertical and horizontal direction"
   ]
  },
  {
   "cell_type": "code",
   "execution_count": 76,
   "metadata": {},
   "outputs": [
    {
     "name": "stdout",
     "output_type": "stream",
     "text": [
      "Horizontal concatenation:\n",
      "\n",
      " [[50 34  7  8]\n",
      " [34 65 23 12]]\n",
      "\n",
      "\n",
      "Vertical concatenation:\n",
      "\n",
      " [[50 34]\n",
      " [34 65]\n",
      " [ 7  8]\n",
      " [23 12]]\n"
     ]
    }
   ],
   "source": [
    "# Solution\n",
    "print('Horizontal concatenation:')\n",
    "horz=np.concatenate((m1,m2),axis=1)\n",
    "print('\\n',horz)\n",
    "print('\\n')\n",
    "print('Vertical concatenation:')\n",
    "ver=np.concatenate((m1,m2))\n",
    "print('\\n',ver)"
   ]
  },
  {
   "cell_type": "markdown",
   "metadata": {},
   "source": [
    "#### 16. Add, Subtract, multiply, divide the matrixes m1 and m2"
   ]
  },
  {
   "cell_type": "code",
   "execution_count": 69,
   "metadata": {},
   "outputs": [
    {
     "name": "stdout",
     "output_type": "stream",
     "text": [
      "m1 + m2 : \n",
      " [[57 42]\n",
      " [57 77]]\n",
      "\n",
      "m1 - m2 : \n",
      " [[43 26]\n",
      " [11 53]]\n",
      "\n",
      "m1 * m2 : \n",
      " [[350 272]\n",
      " [782 780]]\n",
      "\n",
      "m1 / m2 : \n",
      " [[7.14285714 4.25      ]\n",
      " [1.47826087 5.41666667]]\n"
     ]
    }
   ],
   "source": [
    "# Solution\n",
    "print('m1 + m2 : \\n',np.add(m1,m2))\n",
    "print('\\nm1 - m2 : \\n',np.subtract(m1,m2))\n",
    "print('\\nm1 * m2 : \\n',np.multiply(m1,m2))\n",
    "print('\\nm1 / m2 : \\n',np.divide(m1,m2))\n"
   ]
  },
  {
   "cell_type": "markdown",
   "metadata": {},
   "source": [
    "#### 17. Add the m1 with m3 by removing the first row and last column of m3"
   ]
  },
  {
   "cell_type": "code",
   "execution_count": 82,
   "metadata": {},
   "outputs": [
    {
     "name": "stdout",
     "output_type": "stream",
     "text": [
      " [[56 88]\n",
      " [42 70]]\n"
     ]
    }
   ],
   "source": [
    "# Solution\n",
    "m3_new=np.delete(np.delete(m3,0,0),2,1)\n",
    "print('',m1+m3_new)"
   ]
  },
  {
   "cell_type": "markdown",
   "metadata": {},
   "source": [
    "#### 18. Form the matrix m4 by concatenating (as a new row) the vector [me1, me2] with the matrix m1, where me1 and me2 are the mean values of each column on m1."
   ]
  },
  {
   "cell_type": "code",
   "execution_count": 83,
   "metadata": {},
   "outputs": [
    {
     "data": {
      "text/plain": [
       "array([42. , 49.5, 42. , 49.5])"
      ]
     },
     "execution_count": 83,
     "metadata": {},
     "output_type": "execute_result"
    }
   ],
   "source": [
    "# Solution\n",
    "me1=np.mean(m1,axis=0)\n",
    "me2=np.mean(m1,axis=0)\n",
    "m4=np.concatenate((me1,me2),axis=0)\n",
    "m4"
   ]
  },
  {
   "cell_type": "markdown",
   "metadata": {},
   "source": [
    "#### 19. Perform the matrix multiplication between m3 and m4"
   ]
  },
  {
   "cell_type": "code",
   "execution_count": 90,
   "metadata": {},
   "outputs": [
    {
     "data": {
      "text/plain": [
       "array([[ 126. ,  148.5,  126. ,  148.5],\n",
       "       [3192. , 3762. , 3192. , 3762. ],\n",
       "       [ 126. ,  148.5,  126. ,  148.5],\n",
       "       [ 252. ,  297. ,  252. ,  297. ],\n",
       "       [2268. , 2673. , 2268. , 2673. ],\n",
       "       [ 252. ,  297. ,  252. ,  297. ],\n",
       "       [ 336. ,  396. ,  336. ,  396. ],\n",
       "       [ 210. ,  247.5,  210. ,  247.5],\n",
       "       [ 336. ,  396. ,  336. ,  396. ]])"
      ]
     },
     "execution_count": 90,
     "metadata": {},
     "output_type": "execute_result"
    }
   ],
   "source": [
    "# Solution\n",
    "m3=m3=mat[[2,3,4],:][:,[2,3,4]].reshape([-1,1])\n",
    "np.multiply(m3,m4)"
   ]
  },
  {
   "cell_type": "markdown",
   "metadata": {},
   "source": [
    "#### 20. Compute the maximum and minimum value of mean, variance, standard deviation for each row of matrix created in question number 8."
   ]
  },
  {
   "cell_type": "code",
   "execution_count": 113,
   "metadata": {},
   "outputs": [
    {
     "name": "stdout",
     "output_type": "stream",
     "text": [
      "Maximum value of mean 53.6\n",
      "Minimum value of mean 5.0\n",
      "Variance :  [214.64 548.24 820.16 357.76  39.76]\n",
      "Standard deviation : [14.65059726 23.41452541 28.63843571 18.91454467  6.30555311]\n"
     ]
    }
   ],
   "source": [
    "# Solution\n",
    "mat=np.array([[9,25,50,34,45],[3,34,34,65,2],[5,7,3,76,3],[7,8,6,54,6],[23,12,8,5,8]])\n",
    "mean1=mat.max(axis=1)\n",
    "print('Maximum value of mean',mean1.mean())\n",
    "mean2=mat.min(axis=1)\n",
    "print('Minimum value of mean',mean2.mean())\n",
    "var1=mat.var(axis=1)\n",
    "std1=mat.std(axis=1)\n",
    "print('Variance : ',var1)\n",
    "print('Standard deviation :',std1)\n"
   ]
  },
  {
   "cell_type": "markdown",
   "metadata": {},
   "source": [
    "#### 21. Compute the average and strike rate for each player and sort it decending way (seperately for avg and strike rate)\n",
    "<img src = 'crick1.png'>"
   ]
  },
  {
   "cell_type": "code",
   "execution_count": 92,
   "metadata": {},
   "outputs": [
    {
     "name": "stdout",
     "output_type": "stream",
     "text": [
      "Average runs:\n",
      " [110. 102.  92.  78.  65.  60.  56.  54.  42.  32.  22.  12.  12.  11.\n",
      "  10.   8.   6.   3.   2.   1.]\n",
      "\n",
      "Strike Rate:  [2.07407407 2.         1.42857143 1.35483871 1.2        1.1\n",
      " 1.09090909 1.08       1.07368421 0.91089109 0.83333333 0.74418605\n",
      " 0.61111111 0.5        0.45454545 0.40740741 0.4        0.33333333\n",
      " 0.25       0.14285714]\n"
     ]
    }
   ],
   "source": [
    "# Solution \n",
    "run=np.array([[54,60,10,65],[102,2,78,32],[3,110,1,92],[56,6,12,42],[12,8,22,11]]).reshape([-1,1])\n",
    "balls=np.array([[50,42,22,78],[95,8,65,43],[9,100,7,101],[27,3,11,31],[24,20,36,27]]).reshape([-1,1])\n",
    "avg=run.mean(axis=1)\n",
    "totrun=run.sum(axis=1)\n",
    "totballs=balls.sum(axis=1) \n",
    "strikerate=totrun/totballs\n",
    "strike_rate=np.sort(strikerate) [::-1]\n",
    "average=np.sort(avg) [::-1]\n",
    "print('Average runs:\\n',average)\n",
    "print('\\nStrike Rate: ',strike_rate)"
   ]
  },
  {
   "cell_type": "markdown",
   "metadata": {},
   "source": [
    "#### 22. The students mark was recorded in a numpy array: marks = np.array([65,84,47,56,89,98,48,77,80,39]).  Cutoff for pass is 50 marks. Write the logic to print the number of students passed and failed. "
   ]
  },
  {
   "cell_type": "code",
   "execution_count": 96,
   "metadata": {},
   "outputs": [
    {
     "name": "stdout",
     "output_type": "stream",
     "text": [
      "Number of students passed : 7\n",
      "\n",
      "Number of students failed : 3\n"
     ]
    }
   ],
   "source": [
    "# Solution\n",
    "marks = np.array([65,84,47,56,89,98,48,77,80,39])\n",
    "students=np.array(marks>50).sum()\n",
    "print('Number of students passed : '+str(students))\n",
    "\n",
    "failed_stud=np.array(marks<=50).sum()\n",
    "print('\\nNumber of students failed : '+str(failed_stud))\n",
    "\n"
   ]
  },
  {
   "cell_type": "markdown",
   "metadata": {},
   "source": [
    "#### 23. The class incharge decided to give a mercy mark of 5 for those who scored between 45 and 49. Also the bonus of 5 marks awarded to the students who scored more than 80. Print all the student marks and compute the increase in the pass percentage of class. Any score more than 100 must be recorded as only 100."
   ]
  },
  {
   "cell_type": "code",
   "execution_count": 105,
   "metadata": {},
   "outputs": [
    {
     "name": "stdout",
     "output_type": "stream",
     "text": [
      "Mercy mark of students between 45,49 :\n",
      "[57 58]\n",
      "Bonus marks of students with greater than 80:  [ 89  94 103]\n"
     ]
    }
   ],
   "source": [
    "# Solution\n",
    "n1=marks[(marks>45) &(marks <49)]+10\n",
    "print('Mercy mark of students between 45,49 :')\n",
    "print(n1)\n",
    "new=marks[(marks>80)&(marks<99)]+5\n",
    "print('Bonus marks of students with greater than 80: ',new)"
   ]
  },
  {
   "cell_type": "markdown",
   "metadata": {},
   "source": [
    "#### 24. Print the time taken for performing the following operation using list and numpy array\n",
    "####       (x(i)^2 +8) / y(i),   where x and y are real integers from 1 to 60000"
   ]
  },
  {
   "cell_type": "code",
   "execution_count": 106,
   "metadata": {},
   "outputs": [
    {
     "name": "stdout",
     "output_type": "stream",
     "text": [
      "424.29471015930176 ms\n"
     ]
    }
   ],
   "source": [
    "# Solution\n",
    "import time\n",
    "list3=[]\n",
    "st=time.time()\n",
    "l1=list(range(1,60001))\n",
    "l2=list(range(1,60001))\n",
    "for i,j in zip(l1,l2):\n",
    "        list3.append((i**2+8)/j)\n",
    "print((time.time()-st)*1000,'ms')\n",
    "\n"
   ]
  },
  {
   "cell_type": "markdown",
   "metadata": {},
   "source": [
    "#### 25. Create a Github account and upload your solution with the short write-up on Numpy"
   ]
  },
  {
   "cell_type": "code",
   "execution_count": null,
   "metadata": {},
   "outputs": [],
   "source": [
    "# Solution\n",
    "https://github.com/ayruscm/Numpy-Exercise\n",
    "\n",
    "\n"
   ]
  }
 ],
 "metadata": {
  "kernelspec": {
   "display_name": "Python 3",
   "language": "python",
   "name": "python3"
  },
  "language_info": {
   "codemirror_mode": {
    "name": "ipython",
    "version": 3
   },
   "file_extension": ".py",
   "mimetype": "text/x-python",
   "name": "python",
   "nbconvert_exporter": "python",
   "pygments_lexer": "ipython3",
   "version": "3.8.3"
  }
 },
 "nbformat": 4,
 "nbformat_minor": 2
}
